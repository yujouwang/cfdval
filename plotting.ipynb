{
 "cells": [
  {
   "cell_type": "code",
   "execution_count": 1,
   "metadata": {},
   "outputs": [],
   "source": [
    "import numpy as np\n",
    "import pandas as pd\n",
    "import matplotlib.pyplot as plt\n",
    "from matplotlib.lines import Line2D\n",
    "import seaborn as sns\n",
    "sns.set_style(\"whitegrid\")\n",
    "\n",
    "\n",
    "from valcode.manchester import ManchesterLineData\n",
    "from valcode.mydata import *"
   ]
  },
  {
   "cell_type": "markdown",
   "metadata": {},
   "source": [
    "# Line Data"
   ]
  },
  {
   "cell_type": "code",
   "execution_count": 2,
   "metadata": {},
   "outputs": [],
   "source": [
    "# Get data for each loc\n",
    "x_locs = [-7, -4.5, -2, 1, 2]\n",
    "x_locs = [-7, -4.5, -2, -0.5, 1, 2]\n",
    "les_line_folder = r'E:\\LES_Manchester\\UoM_TJ_LES-20211013T183109Z-001\\UoM_TJ_LES\\lines'\n",
    "struct_line_folder = r'E:\\project1_Manchester\\CFD_Manchester\\1_FullModel\\Struct\\1p5mm_v2_ManchesterInlet\\Lines'\n",
    "cubic_folder = r'E:\\project1_Manchester\\CFD_Manchester\\1_FullModel\\Cubic'"
   ]
  },
  {
   "cell_type": "code",
   "execution_count": 4,
   "metadata": {},
   "outputs": [
    {
     "data": {
      "image/png": "[encoded data removed]",
      "text/plain": [
       "<Figure size 648x216 with 1 Axes>"
      ]
     },
     "metadata": {},
     "output_type": "display_data"
    }
   ],
   "source": [
    "# Some Parameter\n",
    "scaling_fac = 1\n",
    "title = 'V mean'\n",
    "# title = 'TKE'\n",
    "fname = Path(r\"data/figures/V_mean.png\")\n",
    "save = False\n",
    "\n",
    "# Define the data in this block\n",
    "def select_data(data_obj):\n",
    "    # coord = data_obj.vertical.tke.coord\n",
    "    # value = data_obj.vertical.tke.tke\n",
    "\n",
    "    coord = data_obj.vertical.Tmean.coord\n",
    "    value = data_obj.vertical.Tmean.T\n",
    "\n",
    "    # coord = data_obj.vertical.Umean.coord\n",
    "    # value = data_obj.vertical.Umean.V\n",
    "    # sort\n",
    "    x = sorted(coord)[1:]\n",
    "    y = value[coord.argsort()[1:]]\n",
    "\n",
    "    # normalize\n",
    "    min_value = value[~np.isnan(value)].min()\n",
    "    max_value = value[~np.isnan(value)].max()\n",
    "    y = y-min_value\n",
    "    # y = (y-min_value)/(max_value - min_value)\n",
    "\n",
    "\n",
    "    return x, y\n",
    "\n",
    "\n",
    "fig, ax =  plt.subplots(1,1, figsize=(9, 3))\n",
    "for loc in x_locs:\n",
    "    # Initiate data\n",
    "    mscs = ManchesterLineData(les_line_folder, loc=loc)\n",
    "    struct = MyLineData(struct_line_folder, loc, f_read_Umean=read_struct_Umean, f_read_tke=read_struct_tke, f_read_Tmean=read_struct_Tmean)\n",
    "    cubic = MyLineData(cubic_folder, loc, read_cubic_Umean, read_cubic_tke, read_cubic_Tmean)\n",
    "\n",
    "\n",
    "    # Umean \n",
    "    mscs_coord, mscs_Umean = select_data(mscs)\n",
    "    struct_coord, struct_Umean = select_data(struct)\n",
    "    cubic_coord, cubic_Umean = select_data(cubic)\n",
    "\n",
    "    # ax.plot(mscs_Umean[::20]+ loc*scaling_fac, mscs_coord[::20], 'r.',markersize=5, label='les')\n",
    "    # ax.plot(mscs_Umean[:5:]+ loc*scaling_fac, mscs_coord[:5:], 'r.',markersize=5, label='les')\n",
    "    ax.plot(mscs_Umean[::1]+ loc*scaling_fac, mscs_coord[::1], 'r.',markersize=5, label='les')\n",
    "    ax.plot(struct_Umean+ loc*scaling_fac, struct_coord, 'k', label='struct')\n",
    "    ax.plot(cubic_Umean+ loc*scaling_fac, cubic_coord, 'k--', alpha=0.4, label='struct')\n",
    "    # plt.legend()\n",
    "\n",
    "ax.set_xticks(np.array(x_locs) * scaling_fac)\n",
    "ax.set_xticklabels(['%sDb' % x for x in x_locs], fontsize=12)\n",
    "# ax.grid()\n",
    "legend_elements = [\n",
    "    Line2D([0], [0], color='r', marker='.', linestyle='', label=\"LES\"),\n",
    "    Line2D([0], [0], color='k', alpha=0.4, linestyle='--', label=\"Cubic\"),\n",
    "    Line2D([0], [0], color='k', linestyle='-', label=\"STRUCT\"),\n",
    "    ]\n",
    "plt.legend(handles=legend_elements, bbox_to_anchor=(1., 1))\n",
    "plt.title(title)\n",
    "plt.tight_layout()\n",
    "\n",
    "if save:\n",
    "    plt.savefig(fname)"
   ]
  },
  {
   "cell_type": "code",
   "execution_count": null,
   "metadata": {},
   "outputs": [],
   "source": []
  }
 ],
 "metadata": {
  "interpreter": {
   "hash": "ee5226cf09d3813fee151198cbc32e366d07efd2c04f60c273301869ac08c842"
  },
  "kernelspec": {
   "display_name": "Python 3.9.0 ('phd')",
   "language": "python",
   "name": "python3"
  },
  "language_info": {
   "codemirror_mode": {
    "name": "ipython",
    "version": 3
   },
   "file_extension": ".py",
   "mimetype": "text/x-python",
   "name": "python",
   "nbconvert_exporter": "python",
   "pygments_lexer": "ipython3",
   "version": "3.9.0"
  },
  "orig_nbformat": 4
 },
 "nbformat": 4,
 "nbformat_minor": 2
}
