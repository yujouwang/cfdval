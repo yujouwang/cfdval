{
 "cells": [
  {
   "cell_type": "code",
   "execution_count": 3,
   "metadata": {},
   "outputs": [],
   "source": [
    "import os\n",
    "import glob\n",
    "import re\n",
    "import pandas as pd \n",
    "import numpy as np\n",
    "import scipy\n",
    "import matplotlib.pyplot as plt\n",
    "import seaborn as sns\n",
    "from tqdm import tqdm\n",
    "sns.set_theme()\n",
    "from importlib import reload  \n",
    "\n",
    "\n",
    "from IPython.display import clear_output\n",
    "\n",
    "\n",
    "from config import *\n",
    "from probe_data import probe_locations"
   ]
  },
  {
   "cell_type": "markdown",
   "metadata": {
    "tags": []
   },
   "source": [
    "# Data Structures in the folder"
   ]
  },
  {
   "cell_type": "markdown",
   "metadata": {},
   "source": [
    "Data structures in the folder"
   ]
  },
  {
   "cell_type": "code",
   "execution_count": 2,
   "metadata": {},
   "outputs": [
    {
     "data": {
      "text/plain": [
       "['line1_y', 'line2_y', 'line3_y', 'line4_y', 'line5_y', 'line6_y']"
      ]
     },
     "execution_count": 2,
     "metadata": {},
     "output_type": "execute_result"
    }
   ],
   "source": [
    "root_dir = r'F:\\LES_Manchester\\UoM_TJ_LES-20211013T183109Z-001\\UoM_TJ_LES\\lines'\n",
    "sub_dirs = glob.glob1(root_dir, 'line*')\n",
    "sub_dirs"
   ]
  },
  {
   "cell_type": "markdown",
   "metadata": {},
   "source": [
    "for every subdir, there is one folder `22.56`, which contains three files"
   ]
  },
  {
   "cell_type": "code",
   "execution_count": 3,
   "metadata": {},
   "outputs": [
    {
     "data": {
      "text/plain": [
       "['line_T_k_nuSgs_TMean_kMean_nuSgsMean_TPrime2Mean_kPrime2Mean_nuSgsPrime2Mean.xy',\n",
       " 'line_UPrime2Mean.xy',\n",
       " 'line_U_UMean.xy']"
      ]
     },
     "execution_count": 3,
     "metadata": {},
     "output_type": "execute_result"
    }
   ],
   "source": [
    "sub_dir = sub_dirs[0]\n",
    "folder = os.path.join(root_dir, sub_dir, '22.56')\n",
    "files = glob.glob1(folder, \"*\")\n",
    "files"
   ]
  },
  {
   "cell_type": "markdown",
   "metadata": {},
   "source": [
    "The corresponding location of the lines is in the `description` file"
   ]
  },
  {
   "cell_type": "code",
   "execution_count": 4,
   "metadata": {},
   "outputs": [],
   "source": [
    "# mapping the sub_dir name to the location, unit: Db\n",
    "loc_map = {\n",
    "    'line1_y': -7, \n",
    "    'line2_y': 1,\n",
    "    'line3_y': 2,\n",
    "    'line4_y':-0.5,\n",
    "    'line5_y':-2,\n",
    "    'line6_y':-4.5\n",
    "}\n",
    "\n",
    "# reverse the key mapping\n",
    "loc_map_rev = {value:key for key, value in loc_map.items()}"
   ]
  },
  {
   "cell_type": "code",
   "execution_count": 5,
   "metadata": {},
   "outputs": [],
   "source": [
    "column_names1= ['Y',\n",
    " 'T',\n",
    " 'k',\n",
    " 'nuSgs',\n",
    " 'TMean',\n",
    " 'kMean',\n",
    " 'nuSgsMean',\n",
    " 'TPrime2Mean',\n",
    " 'kPrime2Mean',\n",
    " 'nuSgsPrime2Mean']"
   ]
  },
  {
   "cell_type": "code",
   "execution_count": 6,
   "metadata": {},
   "outputs": [],
   "source": [
    "column_names2 = ['Y', 'uu', 'vv', 'ww', 'uv', 'uw', 'vw']"
   ]
  },
  {
   "cell_type": "markdown",
   "metadata": {
    "tags": []
   },
   "source": [
    "# Data Parser"
   ]
  },
  {
   "cell_type": "code",
   "execution_count": 17,
   "metadata": {},
   "outputs": [],
   "source": [
    "def _line_data_parser(file_path):\n",
    "    with open(file_path, 'r') as f:\n",
    "        lines = f.readlines()\n",
    "    content = []\n",
    "    for line in lines:\n",
    "        for special_char in ['\\n', '\\t']:\n",
    "            line = line.replace(special_char, '')\n",
    "        line = line.split(\" \")\n",
    "        if \" \" in line:\n",
    "            line.remove(\" \")\n",
    "        elif \"\" in line:\n",
    "                line.remove('')\n",
    "        content.append(line)\n",
    "    return content\n",
    "\n",
    "def _convert_array_to_df(column_names, data):\n",
    "    return pd.DataFrame(data=data,columns=column_names)\n",
    "\n",
    "def get_df(file_path, column_names):\n",
    "    data = _line_data_parser(file_path)\n",
    "    data = np.array(data, dtype=float)\n",
    "    data_shape = data.shape\n",
    "    assert data_shape[1] == len(column_names), \" The lenth of column names doesn't match the data shape \"\n",
    "    return _convert_array_to_df(column_names, data)\n",
    "    "
   ]
  },
  {
   "cell_type": "code",
   "execution_count": 18,
   "metadata": {},
   "outputs": [
    {
     "data": {
      "text/html": [
       "<div>\n",
       "<style scoped>\n",
       "    .dataframe tbody tr th:only-of-type {\n",
       "        vertical-align: middle;\n",
       "    }\n",
       "\n",
       "    .dataframe tbody tr th {\n",
       "        vertical-align: top;\n",
       "    }\n",
       "\n",
       "    .dataframe thead th {\n",
       "        text-align: right;\n",
       "    }\n",
       "</style>\n",
       "<table border=\"1\" class=\"dataframe\">\n",
       "  <thead>\n",
       "    <tr style=\"text-align: right;\">\n",
       "      <th></th>\n",
       "      <th>Y</th>\n",
       "      <th>T</th>\n",
       "      <th>k</th>\n",
       "      <th>nuSgs</th>\n",
       "      <th>TMean</th>\n",
       "      <th>kMean</th>\n",
       "      <th>nuSgsMean</th>\n",
       "      <th>TPrime2Mean</th>\n",
       "      <th>kPrime2Mean</th>\n",
       "      <th>nuSgsPrime2Mean</th>\n",
       "    </tr>\n",
       "  </thead>\n",
       "  <tbody>\n",
       "    <tr>\n",
       "      <th>0</th>\n",
       "      <td>-0.053150</td>\n",
       "      <td>288.15</td>\n",
       "      <td>0.000080</td>\n",
       "      <td>2.367876e-08</td>\n",
       "      <td>288.15</td>\n",
       "      <td>0.000123</td>\n",
       "      <td>2.220930e-08</td>\n",
       "      <td>-1.062290e-09</td>\n",
       "      <td>3.920652e-08</td>\n",
       "      <td>7.789276e-15</td>\n",
       "    </tr>\n",
       "    <tr>\n",
       "      <th>1</th>\n",
       "      <td>-0.052299</td>\n",
       "      <td>288.15</td>\n",
       "      <td>0.000070</td>\n",
       "      <td>1.056353e-07</td>\n",
       "      <td>288.15</td>\n",
       "      <td>0.000068</td>\n",
       "      <td>3.630781e-08</td>\n",
       "      <td>-9.749783e-10</td>\n",
       "      <td>1.631168e-08</td>\n",
       "      <td>1.070852e-14</td>\n",
       "    </tr>\n",
       "    <tr>\n",
       "      <th>2</th>\n",
       "      <td>-0.051449</td>\n",
       "      <td>288.15</td>\n",
       "      <td>0.000101</td>\n",
       "      <td>-3.290869e-08</td>\n",
       "      <td>288.15</td>\n",
       "      <td>0.000055</td>\n",
       "      <td>4.597169e-08</td>\n",
       "      <td>-1.004082e-09</td>\n",
       "      <td>6.971613e-09</td>\n",
       "      <td>1.283499e-14</td>\n",
       "    </tr>\n",
       "    <tr>\n",
       "      <th>3</th>\n",
       "      <td>-0.050598</td>\n",
       "      <td>288.15</td>\n",
       "      <td>0.000122</td>\n",
       "      <td>8.421300e-09</td>\n",
       "      <td>288.15</td>\n",
       "      <td>0.000056</td>\n",
       "      <td>5.890391e-08</td>\n",
       "      <td>-8.876668e-10</td>\n",
       "      <td>4.590755e-09</td>\n",
       "      <td>1.610655e-14</td>\n",
       "    </tr>\n",
       "    <tr>\n",
       "      <th>4</th>\n",
       "      <td>-0.049748</td>\n",
       "      <td>288.15</td>\n",
       "      <td>0.000030</td>\n",
       "      <td>1.369548e-07</td>\n",
       "      <td>288.15</td>\n",
       "      <td>0.000054</td>\n",
       "      <td>6.766546e-08</td>\n",
       "      <td>-8.876668e-10</td>\n",
       "      <td>3.420817e-09</td>\n",
       "      <td>1.970217e-14</td>\n",
       "    </tr>\n",
       "    <tr>\n",
       "      <th>...</th>\n",
       "      <td>...</td>\n",
       "      <td>...</td>\n",
       "      <td>...</td>\n",
       "      <td>...</td>\n",
       "      <td>...</td>\n",
       "      <td>...</td>\n",
       "      <td>...</td>\n",
       "      <td>...</td>\n",
       "      <td>...</td>\n",
       "      <td>...</td>\n",
       "    </tr>\n",
       "    <tr>\n",
       "      <th>121</th>\n",
       "      <td>0.049748</td>\n",
       "      <td>288.15</td>\n",
       "      <td>0.001845</td>\n",
       "      <td>-2.609283e-07</td>\n",
       "      <td>288.15</td>\n",
       "      <td>0.000851</td>\n",
       "      <td>3.675195e-07</td>\n",
       "      <td>-1.105946e-09</td>\n",
       "      <td>6.939437e-07</td>\n",
       "      <td>3.345667e-13</td>\n",
       "    </tr>\n",
       "    <tr>\n",
       "      <th>122</th>\n",
       "      <td>0.050598</td>\n",
       "      <td>288.15</td>\n",
       "      <td>0.000037</td>\n",
       "      <td>7.950006e-10</td>\n",
       "      <td>288.15</td>\n",
       "      <td>0.000790</td>\n",
       "      <td>3.104994e-07</td>\n",
       "      <td>-9.895302e-10</td>\n",
       "      <td>5.190058e-07</td>\n",
       "      <td>2.726784e-13</td>\n",
       "    </tr>\n",
       "    <tr>\n",
       "      <th>123</th>\n",
       "      <td>0.051449</td>\n",
       "      <td>288.15</td>\n",
       "      <td>0.000527</td>\n",
       "      <td>4.470451e-07</td>\n",
       "      <td>288.15</td>\n",
       "      <td>0.000710</td>\n",
       "      <td>2.422762e-07</td>\n",
       "      <td>-8.294592e-10</td>\n",
       "      <td>4.308847e-07</td>\n",
       "      <td>1.901321e-13</td>\n",
       "    </tr>\n",
       "    <tr>\n",
       "      <th>124</th>\n",
       "      <td>0.052299</td>\n",
       "      <td>288.15</td>\n",
       "      <td>0.000264</td>\n",
       "      <td>-6.775596e-08</td>\n",
       "      <td>288.15</td>\n",
       "      <td>0.000534</td>\n",
       "      <td>1.726932e-07</td>\n",
       "      <td>-8.585630e-10</td>\n",
       "      <td>2.402250e-07</td>\n",
       "      <td>9.660954e-14</td>\n",
       "    </tr>\n",
       "    <tr>\n",
       "      <th>125</th>\n",
       "      <td>0.053150</td>\n",
       "      <td>288.15</td>\n",
       "      <td>0.000088</td>\n",
       "      <td>-1.513358e-08</td>\n",
       "      <td>288.15</td>\n",
       "      <td>0.000295</td>\n",
       "      <td>7.493209e-08</td>\n",
       "      <td>-8.149072e-10</td>\n",
       "      <td>6.468544e-08</td>\n",
       "      <td>2.599290e-14</td>\n",
       "    </tr>\n",
       "  </tbody>\n",
       "</table>\n",
       "<p>126 rows × 10 columns</p>\n",
       "</div>"
      ],
      "text/plain": [
       "            Y       T         k         nuSgs   TMean     kMean     nuSgsMean  \\\n",
       "0   -0.053150  288.15  0.000080  2.367876e-08  288.15  0.000123  2.220930e-08   \n",
       "1   -0.052299  288.15  0.000070  1.056353e-07  288.15  0.000068  3.630781e-08   \n",
       "2   -0.051449  288.15  0.000101 -3.290869e-08  288.15  0.000055  4.597169e-08   \n",
       "3   -0.050598  288.15  0.000122  8.421300e-09  288.15  0.000056  5.890391e-08   \n",
       "4   -0.049748  288.15  0.000030  1.369548e-07  288.15  0.000054  6.766546e-08   \n",
       "..        ...     ...       ...           ...     ...       ...           ...   \n",
       "121  0.049748  288.15  0.001845 -2.609283e-07  288.15  0.000851  3.675195e-07   \n",
       "122  0.050598  288.15  0.000037  7.950006e-10  288.15  0.000790  3.104994e-07   \n",
       "123  0.051449  288.15  0.000527  4.470451e-07  288.15  0.000710  2.422762e-07   \n",
       "124  0.052299  288.15  0.000264 -6.775596e-08  288.15  0.000534  1.726932e-07   \n",
       "125  0.053150  288.15  0.000088 -1.513358e-08  288.15  0.000295  7.493209e-08   \n",
       "\n",
       "      TPrime2Mean   kPrime2Mean  nuSgsPrime2Mean  \n",
       "0   -1.062290e-09  3.920652e-08     7.789276e-15  \n",
       "1   -9.749783e-10  1.631168e-08     1.070852e-14  \n",
       "2   -1.004082e-09  6.971613e-09     1.283499e-14  \n",
       "3   -8.876668e-10  4.590755e-09     1.610655e-14  \n",
       "4   -8.876668e-10  3.420817e-09     1.970217e-14  \n",
       "..            ...           ...              ...  \n",
       "121 -1.105946e-09  6.939437e-07     3.345667e-13  \n",
       "122 -9.895302e-10  5.190058e-07     2.726784e-13  \n",
       "123 -8.294592e-10  4.308847e-07     1.901321e-13  \n",
       "124 -8.585630e-10  2.402250e-07     9.660954e-14  \n",
       "125 -8.149072e-10  6.468544e-08     2.599290e-14  \n",
       "\n",
       "[126 rows x 10 columns]"
      ]
     },
     "execution_count": 18,
     "metadata": {},
     "output_type": "execute_result"
    }
   ],
   "source": [
    "# Specify the data path\n",
    "sub_dir = sub_dirs[0]\n",
    "file = files[0]\n",
    "file_path = os.path.join(root_dir, sub_dir, '22.56', file)\n",
    "\n",
    "# Get the dataframe with the known column names\n",
    "df = get_df(file_path, column_names1)\n",
    "df"
   ]
  },
  {
   "cell_type": "markdown",
   "metadata": {},
   "source": [
    "# TKE"
   ]
  },
  {
   "cell_type": "markdown",
   "metadata": {},
   "source": [
    "## Probe data"
   ]
  },
  {
   "cell_type": "code",
   "execution_count": 19,
   "metadata": {},
   "outputs": [],
   "source": [
    "from csvtables import TableProbes\n",
    "from probe_data import probe_locations"
   ]
  },
  {
   "cell_type": "code",
   "execution_count": 20,
   "metadata": {},
   "outputs": [],
   "source": [
    "working_dir = r'F:\\CFD_Manchester\\1_FullModel\\Struct\\1p5mm_v2_ManchesterInlet\\Probes'\n",
    "table_name = 'probes_table'\n",
    "pb_stc = TableProbes(working_dir, table_name, probe_locs=probe_locations, file_start_from=3000)\n"
   ]
  },
  {
   "cell_type": "code",
   "execution_count": 21,
   "metadata": {},
   "outputs": [
    {
     "data": {
      "text/plain": [
       "array([0.04215325, 0.04317788, 0.04517841, ..., 0.03549608, 0.03662167,\n",
       "       0.03855805])"
      ]
     },
     "execution_count": 21,
     "metadata": {},
     "output_type": "execute_result"
    }
   ],
   "source": [
    "probe = (str(0.021*1), '0.05364', '0.00525')\n",
    "pb_stc.read_file(\"TKE_Total\", probe)"
   ]
  },
  {
   "cell_type": "code",
   "execution_count": 22,
   "metadata": {},
   "outputs": [],
   "source": [
    "from manchester import ManchesterProbes"
   ]
  },
  {
   "cell_type": "code",
   "execution_count": 23,
   "metadata": {},
   "outputs": [
    {
     "data": {
      "text/plain": [
       "(array([10.000097, 10.000391, 10.000684, ..., 22.566442, 22.566713,\n",
       "        22.566985]),\n",
       " array([[0.00040328],\n",
       "        [0.00047851],\n",
       "        [0.000579  ],\n",
       "        ...,\n",
       "        [0.0001302 ],\n",
       "        [0.0001302 ],\n",
       "        [0.00013019]]))"
      ]
     },
     "execution_count": 23,
     "metadata": {},
     "output_type": "execute_result"
    }
   ],
   "source": [
    "root = r'F:\\LES_Manchester\\UoM_TJ_LES-20211013T183109Z-001\\UoM_TJ_LES'\n",
    "working_dir = os.path.join(root, 'probes')\n",
    "pb_les = ManchesterProbes(working_dir, probe_locs=probe_locations)\n",
    "pb_les.get_probe_data(probe, data_type='kMean' )"
   ]
  },
  {
   "cell_type": "markdown",
   "metadata": {},
   "source": [
    "## Line data "
   ]
  },
  {
   "cell_type": "code",
   "execution_count": 58,
   "metadata": {},
   "outputs": [
    {
     "ename": "NameError",
     "evalue": "name 'files' is not defined",
     "output_type": "error",
     "traceback": [
      "\u001b[1;31m---------------------------------------------------------------------------\u001b[0m",
      "\u001b[1;31mNameError\u001b[0m                                 Traceback (most recent call last)",
      "\u001b[1;32m<ipython-input-58-d71386475659>\u001b[0m in \u001b[0;36m<module>\u001b[1;34m\u001b[0m\n\u001b[1;32m----> 1\u001b[1;33m \u001b[0mfiles\u001b[0m\u001b[1;33m[\u001b[0m\u001b[1;36m1\u001b[0m\u001b[1;33m]\u001b[0m\u001b[1;33m\u001b[0m\u001b[1;33m\u001b[0m\u001b[0m\n\u001b[0m",
      "\u001b[1;31mNameError\u001b[0m: name 'files' is not defined"
     ]
    }
   ],
   "source": [
    "files[1]"
   ]
  },
  {
   "cell_type": "code",
   "execution_count": 24,
   "metadata": {},
   "outputs": [],
   "source": [
    "loc = 1"
   ]
  },
  {
   "cell_type": "code",
   "execution_count": 25,
   "metadata": {},
   "outputs": [],
   "source": [
    "# find the folder name of the les data \n",
    "folder = loc_map_rev[loc]\n",
    "file_path = os.path.join(root_dir, folder, '22.56', files[1])\n",
    "df = get_df(file_path, column_names2)\n",
    "tke_les = df[\"uu\"] + df[\"vv\"] + df[\"ww\"]\n",
    "z_les = df['Y']\n"
   ]
  },
  {
   "cell_type": "code",
   "execution_count": 26,
   "metadata": {},
   "outputs": [],
   "source": [
    "from csvtables import TableLines"
   ]
  },
  {
   "cell_type": "code",
   "execution_count": 27,
   "metadata": {},
   "outputs": [],
   "source": [
    "working_dir = r'F:\\CFD_Manchester\\1_FullModel\\Struct\\1p5mm_v2_ManchesterInlet\\Lines'\n",
    "table_name = 'Lines_table'\n",
    "l = TableLines(working_dir, table_name, file_start_from=3000)"
   ]
  },
  {
   "cell_type": "code",
   "execution_count": 28,
   "metadata": {},
   "outputs": [],
   "source": [
    "# Get time-avg data\n",
    "tke_stc, std_stc = l.get_lineprobe(column='TKE_Total', x_loc=loc, direction=\"V\")\n",
    "# Get location\n",
    "z_stc, _ =  l.get_lineprobe(column='Z (m)', x_loc=loc, direction=\"V\")"
   ]
  },
  {
   "cell_type": "code",
   "execution_count": 29,
   "metadata": {},
   "outputs": [
    {
     "data": {
      "text/plain": [
       "[<matplotlib.lines.Line2D at 0x28cf88ff888>]"
      ]
     },
     "execution_count": 29,
     "metadata": {},
     "output_type": "execute_result"
    },
    {
     "data": {
      "image/png": "[encoded data removed]",
      "text/plain": [
       "<Figure size 432x288 with 1 Axes>"
      ]
     },
     "metadata": {},
     "output_type": "display_data"
    }
   ],
   "source": [
    "plt.plot(tke_les, z_les, 'ro')\n",
    "plt.plot(tke_stc, z_stc, 'bo')"
   ]
  },
  {
   "cell_type": "markdown",
   "metadata": {},
   "source": [
    "## Plot "
   ]
  },
  {
   "cell_type": "code",
   "execution_count": 109,
   "metadata": {},
   "outputs": [
    {
     "data": {
      "text/plain": [
       "<module 'manchester' from 'D:\\\\Dropbox (MIT)\\\\ResearchProjects\\\\2020_CFD\\\\DataProcessing\\\\cfd_1_ManchesterLESVal\\\\code\\\\manchester.py'>"
      ]
     },
     "execution_count": 109,
     "metadata": {},
     "output_type": "execute_result"
    }
   ],
   "source": [
    "\n",
    "import plots \n",
    "import manchester\n",
    "reload(plots)\n",
    "reload(manchester)"
   ]
  },
  {
   "cell_type": "code",
   "execution_count": 110,
   "metadata": {},
   "outputs": [],
   "source": [
    "import logging"
   ]
  },
  {
   "cell_type": "code",
   "execution_count": 111,
   "metadata": {},
   "outputs": [],
   "source": [
    "logging.basicConfig(format='%(levelname)s:%(message)s', level=logging.DEBUG)\n",
    "logging.getLogger(\"manchester\").setLevel(logging.DEBUG)\n"
   ]
  },
  {
   "cell_type": "code",
   "execution_count": 112,
   "metadata": {},
   "outputs": [],
   "source": [
    "from plots import plot_vertical_summary"
   ]
  },
  {
   "cell_type": "code",
   "execution_count": 114,
   "metadata": {
    "tags": []
   },
   "outputs": [
    {
     "data": {
      "image/png": "[encoded data removed]",
      "text/plain": [
       "<Figure size 648x216 with 1 Axes>"
      ]
     },
     "metadata": {},
     "output_type": "display_data"
    }
   ],
   "source": [
    "plot_vertical_summary('T', title='Mean Temp')"
   ]
  },
  {
   "cell_type": "markdown",
   "metadata": {},
   "source": [
    "# Post-process TKE from Reynolds stress"
   ]
  },
  {
   "cell_type": "code",
   "execution_count": 81,
   "metadata": {},
   "outputs": [],
   "source": [
    "from csvtables import TableLines"
   ]
  },
  {
   "cell_type": "code",
   "execution_count": 59,
   "metadata": {},
   "outputs": [
    {
     "data": {
      "text/plain": [
       "<module 'manchester' from 'D:\\\\Dropbox (MIT)\\\\ResearchProjects\\\\2020_CFD\\\\DataProcessing\\\\cfd_1_ManchesterLESVal\\\\code\\\\manchester.py'>"
      ]
     },
     "execution_count": 59,
     "metadata": {},
     "output_type": "execute_result"
    }
   ],
   "source": [
    "import manchester\n",
    "reload(manchester)"
   ]
  },
  {
   "cell_type": "code",
   "execution_count": 60,
   "metadata": {},
   "outputs": [
    {
     "data": {
      "text/html": [
       "<div>\n",
       "<style scoped>\n",
       "    .dataframe tbody tr th:only-of-type {\n",
       "        vertical-align: middle;\n",
       "    }\n",
       "\n",
       "    .dataframe tbody tr th {\n",
       "        vertical-align: top;\n",
       "    }\n",
       "\n",
       "    .dataframe thead th {\n",
       "        text-align: right;\n",
       "    }\n",
       "</style>\n",
       "<table border=\"1\" class=\"dataframe\">\n",
       "  <thead>\n",
       "    <tr style=\"text-align: right;\">\n",
       "      <th></th>\n",
       "      <th>Z</th>\n",
       "      <th>uu</th>\n",
       "      <th>vv</th>\n",
       "      <th>ww</th>\n",
       "      <th>uv</th>\n",
       "      <th>uw</th>\n",
       "      <th>vw</th>\n",
       "    </tr>\n",
       "  </thead>\n",
       "  <tbody>\n",
       "    <tr>\n",
       "      <th>0</th>\n",
       "      <td>-0.052299</td>\n",
       "      <td>0.008377</td>\n",
       "      <td>-0.001393</td>\n",
       "      <td>-0.000048</td>\n",
       "      <td>0.001816</td>\n",
       "      <td>-0.000024</td>\n",
       "      <td>0.003664</td>\n",
       "    </tr>\n",
       "    <tr>\n",
       "      <th>1</th>\n",
       "      <td>-0.051449</td>\n",
       "      <td>0.005840</td>\n",
       "      <td>-0.000879</td>\n",
       "      <td>0.000004</td>\n",
       "      <td>0.001983</td>\n",
       "      <td>0.000044</td>\n",
       "      <td>0.002811</td>\n",
       "    </tr>\n",
       "    <tr>\n",
       "      <th>2</th>\n",
       "      <td>-0.050598</td>\n",
       "      <td>0.004535</td>\n",
       "      <td>-0.000445</td>\n",
       "      <td>-0.000035</td>\n",
       "      <td>0.002058</td>\n",
       "      <td>-0.000023</td>\n",
       "      <td>0.002281</td>\n",
       "    </tr>\n",
       "    <tr>\n",
       "      <th>3</th>\n",
       "      <td>-0.049748</td>\n",
       "      <td>0.003569</td>\n",
       "      <td>-0.000060</td>\n",
       "      <td>0.000020</td>\n",
       "      <td>0.002253</td>\n",
       "      <td>-0.000104</td>\n",
       "      <td>0.001920</td>\n",
       "    </tr>\n",
       "    <tr>\n",
       "      <th>4</th>\n",
       "      <td>-0.048898</td>\n",
       "      <td>0.003110</td>\n",
       "      <td>0.000116</td>\n",
       "      <td>0.000027</td>\n",
       "      <td>0.002477</td>\n",
       "      <td>-0.000092</td>\n",
       "      <td>0.001706</td>\n",
       "    </tr>\n",
       "    <tr>\n",
       "      <th>...</th>\n",
       "      <td>...</td>\n",
       "      <td>...</td>\n",
       "      <td>...</td>\n",
       "      <td>...</td>\n",
       "      <td>...</td>\n",
       "      <td>...</td>\n",
       "      <td>...</td>\n",
       "    </tr>\n",
       "    <tr>\n",
       "      <th>120</th>\n",
       "      <td>0.049748</td>\n",
       "      <td>0.018887</td>\n",
       "      <td>0.004287</td>\n",
       "      <td>-0.000792</td>\n",
       "      <td>0.020220</td>\n",
       "      <td>0.000056</td>\n",
       "      <td>0.023810</td>\n",
       "    </tr>\n",
       "    <tr>\n",
       "      <th>121</th>\n",
       "      <td>0.050598</td>\n",
       "      <td>0.019808</td>\n",
       "      <td>0.001761</td>\n",
       "      <td>-0.000079</td>\n",
       "      <td>0.017272</td>\n",
       "      <td>0.000463</td>\n",
       "      <td>0.025872</td>\n",
       "    </tr>\n",
       "    <tr>\n",
       "      <th>122</th>\n",
       "      <td>0.051449</td>\n",
       "      <td>0.021880</td>\n",
       "      <td>0.000413</td>\n",
       "      <td>0.000330</td>\n",
       "      <td>0.011953</td>\n",
       "      <td>0.000910</td>\n",
       "      <td>0.028549</td>\n",
       "    </tr>\n",
       "    <tr>\n",
       "      <th>123</th>\n",
       "      <td>0.052299</td>\n",
       "      <td>0.022396</td>\n",
       "      <td>0.001083</td>\n",
       "      <td>0.000026</td>\n",
       "      <td>0.009213</td>\n",
       "      <td>0.000386</td>\n",
       "      <td>0.031970</td>\n",
       "    </tr>\n",
       "    <tr>\n",
       "      <th>124</th>\n",
       "      <td>0.053150</td>\n",
       "      <td>0.022753</td>\n",
       "      <td>0.001917</td>\n",
       "      <td>-0.000481</td>\n",
       "      <td>0.005714</td>\n",
       "      <td>0.000416</td>\n",
       "      <td>0.036989</td>\n",
       "    </tr>\n",
       "  </tbody>\n",
       "</table>\n",
       "<p>125 rows × 7 columns</p>\n",
       "</div>"
      ],
      "text/plain": [
       "            Z        uu        vv        ww        uv        uw        vw\n",
       "0   -0.052299  0.008377 -0.001393 -0.000048  0.001816 -0.000024  0.003664\n",
       "1   -0.051449  0.005840 -0.000879  0.000004  0.001983  0.000044  0.002811\n",
       "2   -0.050598  0.004535 -0.000445 -0.000035  0.002058 -0.000023  0.002281\n",
       "3   -0.049748  0.003569 -0.000060  0.000020  0.002253 -0.000104  0.001920\n",
       "4   -0.048898  0.003110  0.000116  0.000027  0.002477 -0.000092  0.001706\n",
       "..        ...       ...       ...       ...       ...       ...       ...\n",
       "120  0.049748  0.018887  0.004287 -0.000792  0.020220  0.000056  0.023810\n",
       "121  0.050598  0.019808  0.001761 -0.000079  0.017272  0.000463  0.025872\n",
       "122  0.051449  0.021880  0.000413  0.000330  0.011953  0.000910  0.028549\n",
       "123  0.052299  0.022396  0.001083  0.000026  0.009213  0.000386  0.031970\n",
       "124  0.053150  0.022753  0.001917 -0.000481  0.005714  0.000416  0.036989\n",
       "\n",
       "[125 rows x 7 columns]"
      ]
     },
     "execution_count": 60,
     "metadata": {},
     "output_type": "execute_result"
    }
   ],
   "source": [
    "data = manchester.get_line_table(x_loc=1, direction='V', data_type='TKE')\n",
    "data"
   ]
  },
  {
   "cell_type": "code",
   "execution_count": 61,
   "metadata": {},
   "outputs": [
    {
     "data": {
      "text/plain": [
       "[<matplotlib.lines.Line2D at 0x1ceeefc8a48>]"
      ]
     },
     "execution_count": 61,
     "metadata": {},
     "output_type": "execute_result"
    },
    {
     "data": {
      "image/png": "[encoded data removed]",
      "text/plain": [
       "<Figure size 432x288 with 1 Axes>"
      ]
     },
     "metadata": {},
     "output_type": "display_data"
    }
   ],
   "source": [
    "Z, data = manchester.get_line_data(x_loc=1, direction='V', data_type='TKE')\n",
    "plt.plot(Z, data)"
   ]
  },
  {
   "cell_type": "code",
   "execution_count": null,
   "metadata": {},
   "outputs": [],
   "source": []
  }
 ],
 "metadata": {
  "kernelspec": {
   "display_name": "Python 3",
   "language": "python",
   "name": "python3"
  },
  "language_info": {
   "codemirror_mode": {
    "name": "ipython",
    "version": 3
   },
   "file_extension": ".py",
   "mimetype": "text/x-python",
   "name": "python",
   "nbconvert_exporter": "python",
   "pygments_lexer": "ipython3",
   "version": "3.7.6"
  }
 },
 "nbformat": 4,
 "nbformat_minor": 4
}
