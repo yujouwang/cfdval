{
 "cells": [
  {
   "cell_type": "code",
   "execution_count": 11,
   "metadata": {},
   "outputs": [],
   "source": [
    "import sys\n",
    "import time \n",
    "import re\n",
    "import os\n",
    "import numpy as np\n",
    "\n",
    "from config import *"
   ]
  },
  {
   "cell_type": "code",
   "execution_count": 5,
   "metadata": {},
   "outputs": [],
   "source": [
    "star_package_path = r'D:\\Dropbox (MIT)\\ResearchProjects\\2020_CFD\\DataProcessing\\cfd_1_StarMacro\\code'\n",
    "sys.path.insert(0, star_package_path)\n",
    "\n",
    "from star_java_macro import JavaRecorder\n",
    "import star_java_macro as star_java\n",
    "from utils import Customized_path\n"
   ]
  },
  {
   "cell_type": "markdown",
   "metadata": {},
   "source": [
    "# Probes"
   ]
  },
  {
   "cell_type": "code",
   "execution_count": 6,
   "metadata": {
    "tags": []
   },
   "outputs": [],
   "source": [
    "probe_locations = [('0', '0', '0'),\n",
    " ('0.021', '0.0539', '0'),\n",
    " ('0.021', '0.04964', '0.021'),\n",
    " ('0.021', '0.04964', '-0.021'),\n",
    " ('0.021', '0.04885', '0.02278'),\n",
    " ('0.021', '0.04885', '-0.02278'),\n",
    " ('0.021', '0.05364', '0.00525'),\n",
    " ('0.021', '0.05364', '-0.00525'),\n",
    " ('0.042', '0.0539', '0'),\n",
    " ('0.042', '0.04964', '0.021'),\n",
    " ('0.042', '0.04964', '-0.021'),\n",
    " ('0.042', '0.04885', '0.02278'),\n",
    " ('0.042', '0.04885', '-0.02278'),\n",
    " ('0.042', '0.05364', '0.00525'),\n",
    " ('0.042', '0.05364', '-0.00525'),\n",
    " ('0.063', '0.0539', '0'),\n",
    " ('0.063', '0.04964', '0.021'),\n",
    " ('0.063', '0.04964', '-0.021'),\n",
    " ('0.063', '0.04885', '0.02278'),\n",
    " ('0.063', '0.04885', '-0.02278'),\n",
    " ('0.063', '0.05364', '0.00525'),\n",
    " ('0.063', '0.05364', '-0.00525'),\n",
    " ('-0.021', '0.05399', '0'),\n",
    " ('-0.021', '0.052', '0'),\n",
    " ('-0.021', '0.05', '0'),\n",
    " ('-0.021', '0.0457', '-0.0075'),\n",
    " ('-0.021', '0.0457', '0.0075'),\n",
    " ('-0.021', '0.047', '-0.012'),\n",
    " ('-0.021', '0.047', '0.012'),\n",
    " ('0.021', '0.05399', '0'),\n",
    " ('0.021', '0.052', '0'),\n",
    " ('0.021', '0.05', '0'),\n",
    " ('0.021', '0.0457', '-0.0075'),\n",
    " ('0.021', '0.0457', '0.0075'),\n",
    " ('0.021', '0.047', '-0.012'),\n",
    " ('0.021', '0.047', '0.012'),\n",
    " ('0', '0.05399', '0'),\n",
    " ('0', '0.052', '0'),\n",
    " ('0', '0.05', '0'),\n",
    " ('0', '0.0457', '-0.0075'),\n",
    " ('0', '0.0457', '0.0075'),\n",
    " ('0', '0.047', '-0.012'),\n",
    " ('0', '0.047', '0.012'),\n",
    " ('0.021', '0.05230878', '0.013'),\n",
    " ('0.021', '0.05138093', '0.013'),\n",
    " ('0.021', '0.051770744', '0.015'),\n",
    " ('0.021', '0.05083306', '0.015'),\n",
    " ('0.021', '0.052867381', '0.0105'),\n",
    " ('0.021', '0.051949495', '0.0105'),\n",
    " ('0.021', '0.05230878', '-0.013'),\n",
    " ('0.021', '0.05138093', '-0.013'),\n",
    " ('0.021', '0.051770744', '-0.015'),\n",
    " ('0.021', '0.05083306', '-0.015'),\n",
    " ('0.021', '0.052867381', '-0.0105'),\n",
    " ('0.021', '0.051949495', '-0.0105'),\n",
    " ('0.042', '0.05230878', '0.013'),\n",
    " ('0.042', '0.05138093', '0.013'),\n",
    " ('0.042', '0.051770744', '0.015'),\n",
    " ('0.042', '0.05083306', '0.015'),\n",
    " ('0.042', '0.052867381', '0.0105'),\n",
    " ('0.042', '0.051949495', '0.0105'),\n",
    " ('0.042', '0.05230878', '-0.013'),\n",
    " ('0.042', '0.05138093', '-0.013'),\n",
    " ('0.042', '0.051770744', '-0.015'),\n",
    " ('0.042', '0.05083306', '-0.015'),\n",
    " ('0.042', '0.052867381', '-0.0105'),\n",
    " ('0.042', '0.051949495', '-0.0105'),\n",
    " ('0.063', '0.051949495', '0.0105'),\n",
    " ('0.063', '0.05083306', '0.015'),\n",
    " ('0.061', '0.05138093', '0.013'),\n",
    " ('0.063', '0.051949495', '-0.0105'),\n",
    " ('0.063', '0.05083306', '-0.015'),\n",
    " ('0.061', '0.05138093', '-0.013'),\n",
    " ('-0.216', '0.053', '0'),\n",
    " ('-0.216', '0.0539', '0'),\n",
    " ('-0.216', '0.052962251', '0.002'),\n",
    " ('-0.216', '0.052962251', '-0.002'),\n",
    " ('-0.216', '0.0432', '0'),\n",
    " ('-0.216', '0.042026658', '0.001'),\n",
    " ('-0.216', '0.042026658', '-0.001'),\n",
    " ('-0.216', '-0.0432', '0'),\n",
    " ('-0.216', '-0.053', '0'),\n",
    " ('-0.216', '-0.0539', '0'),\n",
    " ('-0.216', '0.0108', '0'),\n",
    " ('-0.216', '-0.0108', '0')]"
   ]
  },
  {
   "cell_type": "code",
   "execution_count": 41,
   "metadata": {},
   "outputs": [],
   "source": [
    "X, Y, Z = [],[],[]\n",
    "for probe in probe_locations:\n",
    "    x,y,z = probe\n",
    "    X.append(x)\n",
    "    Y.append(y)\n",
    "    Z.append(z)\n",
    "\n",
    "\n",
    "# keep record\n",
    "\n",
    "unique_coords = {name:list(np.unique(item)) for name, item in zip(['X', 'Y', 'Z'], [X, Y, Z] )}\n",
    "\n",
    "\n",
    "import json\n",
    "\n",
    "write_path = os.path.join(DATA_DIR, 'probe_id_reference.json')\n",
    "with open(write_path, 'w') as f:\n",
    "     f.write(json.dumps(unique_coords))\n"
   ]
  },
  {
   "cell_type": "code",
   "execution_count": 24,
   "metadata": {},
   "outputs": [],
   "source": [
    "def get_id_of_each_dir(value, unique_list):\n",
    "    found = None\n",
    "    for i, item in enumerate(unique_list):\n",
    "        if value == item:\n",
    "            found = i\n",
    "    assert found != None, \"The value doesn't match the list\"\n",
    "    return found "
   ]
  },
  {
   "cell_type": "code",
   "execution_count": 46,
   "metadata": {},
   "outputs": [],
   "source": [
    "def java_create_new_probe(java_name):\n",
    "    java = JavaRecorder(java_name)\n",
    "    \n",
    "    for probe in probe_locations:\n",
    "        x, z, y = probe\n",
    "        \n",
    "        x_name = 'x%s'%(get_id_of_each_dir(x, np.unique(X)))\n",
    "        z_name = 'z%s'%(get_id_of_each_dir(z, np.unique(Z)))\n",
    "        y_name = 'y%s'%(get_id_of_each_dir(y, np.unique(Y)))\n",
    "\n",
    "        \n",
    "        probe_name = f'probe_%s_%s_%s'%(x_name, y_name, z_name)\n",
    "        probe = star_java.Probe(object_name=probe_name, new=True)\n",
    "        probe.create_from_copy_probe(from_object_name=\"T_xD1_0\")\n",
    "        unit='m'\n",
    "        probe.set_coordinate(x, y, z, unit)\n",
    "        java.add(probe)            \n",
    "    \n",
    "    return java"
   ]
  },
  {
   "cell_type": "code",
   "execution_count": 47,
   "metadata": {},
   "outputs": [
    {
     "ename": "AssertionError",
     "evalue": "The value doesn't match the list",
     "output_type": "error",
     "traceback": [
      "\u001b[1;31m---------------------------------------------------------------------------\u001b[0m",
      "\u001b[1;31mAssertionError\u001b[0m                            Traceback (most recent call last)",
      "\u001b[1;32m<ipython-input-47-d6603adde819>\u001b[0m in \u001b[0;36m<module>\u001b[1;34m\u001b[0m\n\u001b[0;32m      1\u001b[0m \u001b[0mjava_name\u001b[0m \u001b[1;33m=\u001b[0m \u001b[1;34m'java_gen_probes'\u001b[0m\u001b[1;33m\u001b[0m\u001b[1;33m\u001b[0m\u001b[0m\n\u001b[1;32m----> 2\u001b[1;33m \u001b[0mjava\u001b[0m \u001b[1;33m=\u001b[0m \u001b[0mjava_create_new_probe\u001b[0m\u001b[1;33m(\u001b[0m\u001b[0mjava_name\u001b[0m\u001b[1;33m)\u001b[0m\u001b[1;33m\u001b[0m\u001b[1;33m\u001b[0m\u001b[0m\n\u001b[0m\u001b[0;32m      3\u001b[0m \u001b[0mjava\u001b[0m\u001b[1;33m.\u001b[0m\u001b[0mgenerate\u001b[0m\u001b[1;33m(\u001b[0m\u001b[0msave_path\u001b[0m\u001b[1;33m=\u001b[0m\u001b[0mos\u001b[0m\u001b[1;33m.\u001b[0m\u001b[0mpath\u001b[0m\u001b[1;33m.\u001b[0m\u001b[0mjoin\u001b[0m\u001b[1;33m(\u001b[0m\u001b[0mDATA_DIR\u001b[0m\u001b[1;33m,\u001b[0m \u001b[1;34mf'{java_name}.java'\u001b[0m\u001b[1;33m)\u001b[0m\u001b[1;33m)\u001b[0m\u001b[1;33m\u001b[0m\u001b[1;33m\u001b[0m\u001b[0m\n",
      "\u001b[1;32m<ipython-input-46-d804b305cd07>\u001b[0m in \u001b[0;36mjava_create_new_probe\u001b[1;34m(java_name)\u001b[0m\n\u001b[0;32m      7\u001b[0m         \u001b[0mx_name\u001b[0m \u001b[1;33m=\u001b[0m \u001b[1;34m'x%s'\u001b[0m\u001b[1;33m%\u001b[0m\u001b[1;33m(\u001b[0m\u001b[0mget_id_of_each_dir\u001b[0m\u001b[1;33m(\u001b[0m\u001b[0mx\u001b[0m\u001b[1;33m,\u001b[0m \u001b[0mnp\u001b[0m\u001b[1;33m.\u001b[0m\u001b[0munique\u001b[0m\u001b[1;33m(\u001b[0m\u001b[0mX\u001b[0m\u001b[1;33m)\u001b[0m\u001b[1;33m)\u001b[0m\u001b[1;33m)\u001b[0m\u001b[1;33m\u001b[0m\u001b[1;33m\u001b[0m\u001b[0m\n\u001b[0;32m      8\u001b[0m         \u001b[0my_name\u001b[0m \u001b[1;33m=\u001b[0m \u001b[1;34m'y%s'\u001b[0m\u001b[1;33m%\u001b[0m\u001b[1;33m(\u001b[0m\u001b[0mget_id_of_each_dir\u001b[0m\u001b[1;33m(\u001b[0m\u001b[0my\u001b[0m\u001b[1;33m,\u001b[0m \u001b[0mnp\u001b[0m\u001b[1;33m.\u001b[0m\u001b[0munique\u001b[0m\u001b[1;33m(\u001b[0m\u001b[0mY\u001b[0m\u001b[1;33m)\u001b[0m\u001b[1;33m)\u001b[0m\u001b[1;33m)\u001b[0m\u001b[1;33m\u001b[0m\u001b[1;33m\u001b[0m\u001b[0m\n\u001b[1;32m----> 9\u001b[1;33m         \u001b[0mz_name\u001b[0m \u001b[1;33m=\u001b[0m \u001b[1;34m'z%s'\u001b[0m\u001b[1;33m%\u001b[0m\u001b[1;33m(\u001b[0m\u001b[0mget_id_of_each_dir\u001b[0m\u001b[1;33m(\u001b[0m\u001b[0mz\u001b[0m\u001b[1;33m,\u001b[0m \u001b[0mnp\u001b[0m\u001b[1;33m.\u001b[0m\u001b[0munique\u001b[0m\u001b[1;33m(\u001b[0m\u001b[0mZ\u001b[0m\u001b[1;33m)\u001b[0m\u001b[1;33m)\u001b[0m\u001b[1;33m)\u001b[0m\u001b[1;33m\u001b[0m\u001b[1;33m\u001b[0m\u001b[0m\n\u001b[0m\u001b[0;32m     10\u001b[0m \u001b[1;33m\u001b[0m\u001b[0m\n\u001b[0;32m     11\u001b[0m         \u001b[0mprobe_name\u001b[0m \u001b[1;33m=\u001b[0m \u001b[1;34mf'probe_%s_%s_%s'\u001b[0m\u001b[1;33m%\u001b[0m\u001b[1;33m(\u001b[0m\u001b[0mx_name\u001b[0m\u001b[1;33m,\u001b[0m \u001b[0my_name\u001b[0m\u001b[1;33m,\u001b[0m \u001b[0mz_name\u001b[0m\u001b[1;33m)\u001b[0m\u001b[1;33m\u001b[0m\u001b[1;33m\u001b[0m\u001b[0m\n",
      "\u001b[1;32m<ipython-input-24-2d820e488b6d>\u001b[0m in \u001b[0;36mget_id_of_each_dir\u001b[1;34m(value, unique_list)\u001b[0m\n\u001b[0;32m      4\u001b[0m         \u001b[1;32mif\u001b[0m \u001b[0mvalue\u001b[0m \u001b[1;33m==\u001b[0m \u001b[0mitem\u001b[0m\u001b[1;33m:\u001b[0m\u001b[1;33m\u001b[0m\u001b[1;33m\u001b[0m\u001b[0m\n\u001b[0;32m      5\u001b[0m             \u001b[0mfound\u001b[0m \u001b[1;33m=\u001b[0m \u001b[0mi\u001b[0m\u001b[1;33m\u001b[0m\u001b[1;33m\u001b[0m\u001b[0m\n\u001b[1;32m----> 6\u001b[1;33m     \u001b[1;32massert\u001b[0m \u001b[0mfound\u001b[0m \u001b[1;33m!=\u001b[0m \u001b[1;32mNone\u001b[0m\u001b[1;33m,\u001b[0m \u001b[1;34m\"The value doesn't match the list\"\u001b[0m\u001b[1;33m\u001b[0m\u001b[1;33m\u001b[0m\u001b[0m\n\u001b[0m\u001b[0;32m      7\u001b[0m     \u001b[1;32mreturn\u001b[0m \u001b[0mfound\u001b[0m\u001b[1;33m\u001b[0m\u001b[1;33m\u001b[0m\u001b[0m\n",
      "\u001b[1;31mAssertionError\u001b[0m: The value doesn't match the list"
     ]
    }
   ],
   "source": [
    "java_name = 'java_gen_probes'\n",
    "java = java_create_new_probe(java_name)\n",
    "java.generate(save_path=os.path.join(DATA_DIR, f'{java_name}.java'))"
   ]
  },
  {
   "cell_type": "code",
   "execution_count": null,
   "metadata": {},
   "outputs": [],
   "source": []
  }
 ],
 "metadata": {
  "kernelspec": {
   "display_name": "Python 3",
   "language": "python",
   "name": "python3"
  },
  "language_info": {
   "codemirror_mode": {
    "name": "ipython",
    "version": 3
   },
   "file_extension": ".py",
   "mimetype": "text/x-python",
   "name": "python",
   "nbconvert_exporter": "python",
   "pygments_lexer": "ipython3",
   "version": "3.7.6"
  }
 },
 "nbformat": 4,
 "nbformat_minor": 4
}
